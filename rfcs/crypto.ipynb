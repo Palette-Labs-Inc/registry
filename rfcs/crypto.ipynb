{
 "cells": [
  {
   "cell_type": "code",
   "execution_count": 11,
   "metadata": {},
   "outputs": [
    {
     "data": {
      "text/plain": [
       "(0, 1, 2)"
      ]
     },
     "execution_count": 11,
     "metadata": {},
     "output_type": "execute_result"
    }
   ],
   "source": [
    "import hashlib\n",
    "\n",
    "def calculate_depth_corrected(key: str) -> int:\n",
    "    # Convert the key to a byte array\n",
    "    key_bytes = key.encode('utf-8')\n",
    "    \n",
    "    # Hash the key using SHA-256\n",
    "    hash_bytes = hashlib.sha256(key_bytes).digest()\n",
    "    \n",
    "    leading_zeros = 0\n",
    "    for byte in hash_bytes:\n",
    "        if byte < 64: leading_zeros += 1\n",
    "        if byte < 16: leading_zeros += 1\n",
    "        if byte < 4: leading_zeros += 1\n",
    "        if byte == 0:\n",
    "            leading_zeros += 1\n",
    "            continue\n",
    "        break\n",
    "    \n",
    "    return leading_zeros\n",
    "\n",
    "# Test the function with the provided keys\n",
    "key1 = '2653ae71'\n",
    "key2 = 'nosh'\n",
    "key3 = \"xyz.nosh.buyer.address/s\"\n",
    "\n",
    "depth1 = calculate_depth_corrected(key1)\n",
    "depth2 = calculate_depth_corrected(key2)\n",
    "depth3 = calculate_depth_corrected(key3)\n",
    "\n",
    "depth1, depth2, depth3"
   ]
  }
 ],
 "metadata": {
  "kernelspec": {
   "display_name": "Python 3",
   "language": "python",
   "name": "python3"
  },
  "language_info": {
   "codemirror_mode": {
    "name": "ipython",
    "version": 3
   },
   "file_extension": ".py",
   "mimetype": "text/x-python",
   "name": "python",
   "nbconvert_exporter": "python",
   "pygments_lexer": "ipython3",
   "version": "3.9.13"
  }
 },
 "nbformat": 4,
 "nbformat_minor": 2
}
